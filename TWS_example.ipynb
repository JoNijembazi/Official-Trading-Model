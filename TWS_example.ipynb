{
 "cells": [
  {
   "cell_type": "code",
   "execution_count": 55,
   "metadata": {},
   "outputs": [],
   "source": [
    "from ibapi.client import *\n",
    "from ibapi.wrapper import *\n",
    "from ibapi.contract import Contract\n",
    "import threading\n",
    "import time"
   ]
  },
  {
   "cell_type": "code",
   "execution_count": null,
   "metadata": {},
   "outputs": [
    {
     "name": "stderr",
     "output_type": "stream",
     "text": [
      "ERROR -1 2104 Market data farm connection is OK:cafarm\n",
      "ERROR -1 2104 Market data farm connection is OK:eufarmnj\n",
      "ERROR -1 2104 Market data farm connection is OK:cashfarm\n",
      "ERROR -1 2104 Market data farm connection is OK:uscrypto\n",
      "ERROR -1 2104 Market data farm connection is OK:usfuture.nj\n",
      "ERROR -1 2104 Market data farm connection is OK:usfuture\n",
      "ERROR -1 2104 Market data farm connection is OK:usbond\n",
      "ERROR -1 2104 Market data farm connection is OK:usfarm.nj\n",
      "ERROR -1 2104 Market data farm connection is OK:eufarm\n",
      "ERROR -1 2104 Market data farm connection is OK:usopt\n",
      "ERROR -1 2104 Market data farm connection is OK:usfarm\n",
      "ERROR -1 2106 HMDS data farm connection is OK:euhmds\n",
      "ERROR -1 2106 HMDS data farm connection is OK:cashhmds\n",
      "ERROR -1 2106 HMDS data farm connection is OK:fundfarm\n",
      "ERROR -1 2106 HMDS data farm connection is OK:ushmds\n",
      "ERROR -1 2158 Sec-def data farm connection is OK:secdefil\n"
     ]
    },
    {
     "name": "stdout",
     "output_type": "stream",
     "text": [
      "Position. Account: U13421465 Contract: XOM Position: 0 Avg cost: 0.0 USD\n",
      "Position. Account: U13421465 Contract: PGR Position: 1.058 Avg cost: 215.7558601 USD\n",
      "Position. Account: U13421465 Contract: MS Position: 1 Avg cost: 112.9 USD\n",
      "Position. Account: U13421465 Contract: CCJ Position: 3 Avg cost: 56.83336665 USD\n",
      "Position. Account: U13421465 Contract: VGLT Position: 0 Avg cost: 0.0 USD\n",
      "Position. Account: U13421465 Contract: TRGP Position: 2.1252 Avg cost: 145.4328534 USD\n",
      "Position. Account: U13421465 Contract: OKLO Position: 9 Avg cost: 21.1779222 USD\n",
      "Position. Account: U13421465 Contract: BAC Position: 6.919 Avg cost: 36.8799971 USD\n",
      "Position. Account: U13421465 Contract: SPY Position: 0.2378 Avg cost: 603.36543315 USD\n",
      "Position. Account: U13421465 Contract: CVX Position: 0 Avg cost: 0.0 USD\n",
      "Position. Account: U13421465 Contract: GOOG Position: 0.8 Avg cost: 170.249875 USD\n",
      "Position. Account: U13421465 Contract: LDOS Position: 1.985 Avg cost: 157.35969775 USD\n",
      "Position. Account: U13421465 Contract: APO Position: 1 Avg cost: 164.88 USD\n"
     ]
    }
   ],
   "source": [
    "\n",
    "class TradeApp(EWrapper, EClient): \n",
    "    def __init__(self): \n",
    "        EClient.__init__(self, self) \n",
    "        \n",
    "    def historicalData(self, reqId, bar):\n",
    "        print(\"HistoricalData. ReqId:\", reqId, \"BarData.\", bar)\n",
    "\n",
    "    def historicalSchedule(self, reqId: int, startDateTime: str, endDateTime: str, timeZone: str, sessions: ListOfHistoricalSessions):\n",
    "        print(\"HistoricalSchedule. ReqId:\", reqId, \"Start:\", startDateTime, \"End:\", endDateTime, \"TimeZone:\", timeZone)\n",
    "        for session in sessions:\n",
    "            print(\"\\tSession. Start:\", session.startDateTime, \"End:\", session.endDateTime, \"Ref Date:\", session.refDate)\n",
    "\n",
    "    def historicalDataUpdate(self, reqId: int, bar: BarData):\n",
    "        print(\"HistoricalDataUpdate. ReqId:\", reqId, \"BarData.\", bar)\n",
    "\n",
    "    def historicalDataEnd(self, reqId: int, start: str, end: str):\n",
    "        print(\"HistoricalDataEnd. ReqId:\", reqId, \"from\", start, \"to\", end)\n",
    "    \n",
    "    def position(self, account: str, contract: Contract, position: float, avgCost: float):\n",
    "        print(\"Position.\", \"Account:\", account, \"Contract:\", contract.symbol, \"Position:\", position, \"Avg cost:\", avgCost,contract.currency)\n",
    "\n",
    "\n",
    "def websocket_con():\n",
    "    app.run()\n",
    "    \n",
    "app = TradeApp()      \n",
    "app.connect(\"127.0.0.1\", 7496, clientId=4)\n",
    "\n",
    "con_thread = threading.Thread(target=websocket_con, daemon=True)\n",
    "con_thread.start()\n",
    "\n",
    "time.sleep(1) \n",
    "\n",
    "contract = Contract()\n",
    "contract.symbol = \"APO\"\n",
    "contract.secType = \"STK\"\n",
    "contract.exchange = \"SMART\"\n",
    "contract.currency = \"USD\"\n",
    "\n",
    "app.reqPositions()\n",
    "time.sleep(1)\n",
    "\n",
    "app.disconnect()"
   ]
  },
  {
   "cell_type": "code",
   "execution_count": null,
   "metadata": {},
   "outputs": [],
   "source": []
  },
  {
   "cell_type": "code",
   "execution_count": 58,
   "metadata": {},
   "outputs": [
    {
     "ename": "TypeError",
     "evalue": "EClient.reqAccountSummary() missing 3 required positional arguments: 'reqId', 'groupName', and 'tags'",
     "output_type": "error",
     "traceback": [
      "\u001b[1;31m---------------------------------------------------------------------------\u001b[0m",
      "\u001b[1;31mTypeError\u001b[0m                                 Traceback (most recent call last)",
      "Cell \u001b[1;32mIn[58], line 1\u001b[0m\n\u001b[1;32m----> 1\u001b[0m \u001b[38;5;28mprint\u001b[39m(\u001b[43mapp\u001b[49m\u001b[38;5;241;43m.\u001b[39;49m\u001b[43mreqAccountSummary\u001b[49m\u001b[43m(\u001b[49m\u001b[43m)\u001b[49m)\n",
      "\u001b[1;31mTypeError\u001b[0m: EClient.reqAccountSummary() missing 3 required positional arguments: 'reqId', 'groupName', and 'tags'"
     ]
    }
   ],
   "source": [
    "print(app.reqAccountSummary())"
   ]
  }
 ],
 "metadata": {
  "kernelspec": {
   "display_name": "Python 3",
   "language": "python",
   "name": "python3"
  },
  "language_info": {
   "codemirror_mode": {
    "name": "ipython",
    "version": 3
   },
   "file_extension": ".py",
   "mimetype": "text/x-python",
   "name": "python",
   "nbconvert_exporter": "python",
   "pygments_lexer": "ipython3",
   "version": "3.12.0"
  }
 },
 "nbformat": 4,
 "nbformat_minor": 2
}
